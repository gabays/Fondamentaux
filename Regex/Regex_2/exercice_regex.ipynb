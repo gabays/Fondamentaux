{
 "cells": [
  {
   "cell_type": "markdown",
   "id": "ce9f7ace",
   "metadata": {},
   "source": [
    "# Utilisation des expressions régulières dans la récupération de données\n",
    "\n",
    "Les expressions régulières permettent de chercher des motifs dans le texte et cette manière de faire peut être utile dans la récupération des informations afin de former une base de données.\n",
    "\n",
    "\n",
    "## Aujourd'hui : récupérer les informations sur une page Web\n",
    "\n",
    "Récupérer les infromations, sur Internet par exemple, revient à ces trois étapes :\n",
    "\n",
    "![title](scraping.jpeg)\n",
    "\n",
    "1. On part d'une page Web, souvent au format HTML, dans laquelle se trouve les informations que l'on veut récupérer\n",
    "2. En fonction de cette structure, on fait ce qu'on appel du \"scraping\", c'est-à-dire de la récupération de données\n",
    "3. Finalement, il s'agit de structurer ces données dans un format, de type tableur par exemple\n",
    "\n",
    "## Reprenons plus précisément ces trois étapes"
   ]
  },
  {
   "cell_type": "markdown",
   "id": "a1cfbcc0",
   "metadata": {},
   "source": [
    "### 1. Structure d'une page Web\n",
    "\n",
    "Derrière une page Web il y a du texte, du code: on passe d'une représentation, disons, visuelle et interactive à une construction textuelle. La strucutre d'une page Web ressemble le plus souvent à du HTML ou ses dérivées. Le principe de ce langage est que le texte, les informations sont contenues dans des balises.\n",
    "\n",
    "* Les balises se trouve au début (balise ouvrante) et à la fin (balise fermante) pour enclore des informations. \n",
    "* Entre deux balises, il peut y avoir d'autres balises\n",
    "* Une balise, dans sa description, peut avoir plus ou moins d'informations\n",
    "\n",
    "![title](web.png)\n",
    "![title](html.png)\n",
    "\n",
    "Les informations qui nous intéressent se trouvent entre les balises. Il nous faut donc comprendre la structure de notre page pour pouvoir y appliquer des expressions régulières. "
   ]
  },
  {
   "cell_type": "markdown",
   "id": "a284f6d7",
   "metadata": {},
   "source": [
    "### Exemple \n",
    "\n",
    "De quelle manière dois-je concevoir mon expression régulière si je veux récupérer le texte \"Hello World\" ?\n",
    "\n",
    "![title](html2.png)"
   ]
  },
  {
   "cell_type": "markdown",
   "id": "796e9ec1",
   "metadata": {},
   "source": [
    "## 2. Récupération des données\n",
    "\n",
    "Cette étape permet de lier notre page Web non-structurée à un des informations structurée de type tableur. Après avoir compris la structure de la page Web, notre script Python devra suivre ces différentes étapes:\n",
    "\n",
    "* A partir d'une URL, télécharger les informations d'une page Web (sous la forme de l'exemple ci-dessus)\n",
    "* Construire et appliquer nos expressions régulières selon les informations que l'on désire récupérer\n",
    "* Créer une boucle pour récupérer toutes les infromations\n",
    "* Enregistrer les données"
   ]
  },
  {
   "cell_type": "markdown",
   "id": "388fdef4",
   "metadata": {},
   "source": [
    "### Exemple\n",
    "\n",
    "Avant de passer au code, voyons à quoi cela peut ressembler\n",
    "\n",
    "![title](python.jpeg)"
   ]
  },
  {
   "cell_type": "markdown",
   "id": "4be6ab7a",
   "metadata": {},
   "source": [
    "## 3. Enregistrer les données\n",
    "\n",
    "L'idée de ce processus est de passer d'une page Web non structurée à un format structuré pour la maipulaiton de données. Dans cette optique, le format dans lequel les informations seront enregistrées doit être:\n",
    "\n",
    "* Structuré, avec des lignes et des colones clairement définies\n",
    "* Interopérable, c'est-à-dire compatible et réutilisable, par exemple sous forme d'un tableur\n"
   ]
  },
  {
   "cell_type": "markdown",
   "id": "d6a9d8d9",
   "metadata": {},
   "source": [
    "### Exemple\n",
    "\n",
    "Voilà à quoi ressemble un fichier au format .csv : \n",
    "\n",
    "* Colones séparées par des virgules (d'où le \"c\" de csv ; par exemple tsv se fait avec des tabulations)\n",
    "* Lignes séparées par un retour à la ligne\n",
    "\n",
    "![title](csv.png)"
   ]
  },
  {
   "cell_type": "markdown",
   "id": "f3e1e7cd",
   "metadata": {},
   "source": [
    "## Exercice : récupérer les informations des films sur IMDB\n",
    "\n",
    "## Étape 1 - la strcuture de la page Web\n",
    "\n",
    "L'exercice que je vous propose part d'une recherche des titres de films et séries contenant le terme \"Vénus\" : https://www.imdb.com/search/title/?title=venus\n",
    "\n",
    "![title](imdb.png)\n",
    "![title](imdb_html.png)"
   ]
  },
  {
   "cell_type": "markdown",
   "id": "df1b6976",
   "metadata": {},
   "source": [
    "### Quelles informations pouvez-vous et voulez-vous récupérer ?\n",
    "\n",
    "* Reste-t-on sur la première page de la requête ?\n",
    "* Quelles informations ?\n",
    "    * Le titre\n",
    "    * La durée\n",
    "    * Le genre\n",
    "    * L'affiche (image)\n",
    "    * ..."
   ]
  },
  {
   "cell_type": "markdown",
   "id": "02c22bfe",
   "metadata": {},
   "source": [
    "## Étape 2 - Créer un script pour le \"scraping\"\n",
    "\n",
    "Après avoir compris la strucutre de la page Web, il faut créer un script pour les récupérer. Les étapes successivent sont:\n",
    "\n",
    "* 2.1 Importer les libraires nécessaires\n",
    "* 2.2 Requêter d'après l'URL pour récupérer les informations \n",
    "* 2.3 Construire les expressions régulières et les appliquer\n",
    "* 2.4 Automatiser le processus sur toutes les pages\n",
    "\n"
   ]
  },
  {
   "cell_type": "markdown",
   "id": "4bbecc8c",
   "metadata": {},
   "source": [
    "#### 2.1 Importer les librairies nécessaires"
   ]
  },
  {
   "cell_type": "code",
   "execution_count": 1,
   "id": "d4064945",
   "metadata": {},
   "outputs": [],
   "source": [
    "# Importer les librairies\n",
    "\n",
    "#!conda install --yes -c anaconda requests\n",
    "import requests # pour télécharger le contenu d'une URL\n",
    "\n",
    "#!conda install --yes -c anaconda bs4 \n",
    "from bs4 import BeautifulSoup as bs # pour récupérer le contenu téléchargé de l'URL\n",
    "\n",
    "import os # pour naviguer dans les dossiers et fichiers\n",
    "\n",
    "import re # pour les expressions régulières\n",
    "\n",
    "#!conda install --yes -c anaconda pandas\n",
    "import pandas as pd # pour manipuler des tableurs\n",
    "\n",
    "\n",
    "#!conda install --yes -c conda-forge tqdm\n",
    "from tqdm.notebook import tqdm # pour afficher une bar de progression"
   ]
  },
  {
   "cell_type": "markdown",
   "id": "da2d36a3",
   "metadata": {},
   "source": [
    "#### 2.2 Requêter d'après l'URL pour récupérer les informations "
   ]
  },
  {
   "cell_type": "markdown",
   "id": "bf0848c4",
   "metadata": {},
   "source": [
    "Regardons plus précisément la structures des URLs pour pouvoir récupérer toutes les pages de notre requête sur IMDB"
   ]
  },
  {
   "cell_type": "code",
   "execution_count": 2,
   "id": "e8b78555",
   "metadata": {},
   "outputs": [],
   "source": [
    "# URL de la première page\n",
    "\n",
    "url = \"https://www.imdb.com/search/title/?title=venus\""
   ]
  },
  {
   "cell_type": "code",
   "execution_count": 3,
   "id": "ddcf1771",
   "metadata": {},
   "outputs": [],
   "source": [
    "# Logique des URLs suivants:\n",
    "# On voit que seuelement une partie de l'URL change, \n",
    "# c'est la partie qui définit le nombre de titres dans la page.\n",
    "# Ainsi il suffit de changer ce nombre pour avoir les titres de la page suivante\n",
    "\n",
    "url2 = \"https://www.imdb.com/search/title/?title=venus&start=51&ref_=adv_nxt\"\n",
    "url3 = \"https://www.imdb.com/search/title/?title=venus&start=101&ref_=adv_nxt\""
   ]
  },
  {
   "cell_type": "markdown",
   "id": "4af0ae07",
   "metadata": {},
   "source": [
    "Finalement, plusieurs informations nous permette de construire une liste avec tous les URLs\n",
    "\n",
    "![title](imdbnb.png)\n",
    "\n",
    "* Le 1er URL est différent des autres\n",
    "* Les URLs suivant ont un incrément de 50 entre chaque page\n",
    "* Notre requête a un maximum de 886 titres\n",
    "\n",
    "**Avant de faire une requête, sachant toutes ces informations il faut préparer tous les URLs**"
   ]
  },
  {
   "cell_type": "code",
   "execution_count": 4,
   "id": "56573d39",
   "metadata": {},
   "outputs": [
    {
     "name": "stdout",
     "output_type": "stream",
     "text": [
      "Nombre de pages : 17\n"
     ]
    }
   ],
   "source": [
    "# Combien de pages avons-nous ?\n",
    "\n",
    "total_titres = 886 # nombre de pages total\n",
    "count = total_titres//50 # nombre de titres total divisé par le le nombre de titre par page\n",
    "\n",
    "print(\"Nombre de pages :\",count)"
   ]
  },
  {
   "cell_type": "code",
   "execution_count": 5,
   "id": "f29634f0",
   "metadata": {},
   "outputs": [
    {
     "name": "stdout",
     "output_type": "stream",
     "text": [
      "[51, 101, 151, 201, 251, 301, 351, 401, 451, 501, 551, 601, 651, 701, 751, 801, 851]\n"
     ]
    }
   ],
   "source": [
    "# Préaprer une liste avec l'incrément\n",
    "# Cette liste nous permettra de remplacer le nombre dans l'URL\n",
    "# On commence du titre 51 jusqu'au titre 851 qui définit la dernière page\n",
    "\n",
    "increment = [(i*50)+1 for i in range(1, (count+1))]\n",
    "\n",
    "print(increment)"
   ]
  },
  {
   "cell_type": "markdown",
   "id": "e3f2a6be",
   "metadata": {},
   "source": [
    "**Maintenant, il faut créer tous les URLS**\n",
    "\n",
    "* Prendre une URL de base\n",
    "* Par une boucle, remplacer le nombre des titres par page\n",
    "* Enregistrer le tout "
   ]
  },
  {
   "cell_type": "code",
   "execution_count": 6,
   "id": "3f5d812e",
   "metadata": {},
   "outputs": [
    {
     "name": "stdout",
     "output_type": "stream",
     "text": [
      "Nombre d'URLs : 17\n"
     ]
    }
   ],
   "source": [
    "# Créer une liste avec tous les urls\n",
    "\n",
    "# A l'aide du %d il est possible d'insérer notre incrément\n",
    "url_pattern = \"https://www.imdb.com/search/title/?title=venus&start=%d&ref_=adv_nxt\"\n",
    "\n",
    "# Insérer notre incrément dans notre pattern\n",
    "urls = [url_pattern % v for v in increment]\n",
    "\n",
    "print(\"Nombre d'URLs :\", len(urls))"
   ]
  },
  {
   "cell_type": "code",
   "execution_count": 7,
   "id": "f5047993",
   "metadata": {},
   "outputs": [],
   "source": [
    "# Ajouter l'URL de la première page\n",
    "# Car le premier URL est différent !\n",
    "\n",
    "urls.append(url)"
   ]
  },
  {
   "cell_type": "markdown",
   "id": "0bdad701",
   "metadata": {},
   "source": [
    "**Maintenant que nos URLs sont prêts, il est possible de récupérer les informations dans chaque page**\n",
    "\n",
    "Avant d'appliquer le processus sur toutes les pages, commençons par la première page. Puis il s'agira d'automatiser la tâche sur toutes les pages"
   ]
  },
  {
   "cell_type": "code",
   "execution_count": 8,
   "id": "237d585f",
   "metadata": {},
   "outputs": [],
   "source": [
    "# La requête d'un contenu Web d'après une URL se fait simplement de cette manière\n",
    "\n",
    "res = requests.get(url)\n",
    "soup = bs(res.content, 'html.parser')"
   ]
  },
  {
   "cell_type": "markdown",
   "id": "7286650f",
   "metadata": {},
   "source": [
    "**Cependant, on peut préciser notre requête, par exemple en prenant les informations contenues entre deux balises. Entre quelles balises sont contenues les films?**"
   ]
  },
  {
   "cell_type": "code",
   "execution_count": null,
   "id": "f710cda8",
   "metadata": {},
   "outputs": [],
   "source": []
  },
  {
   "cell_type": "code",
   "execution_count": null,
   "id": "14e10b8f",
   "metadata": {},
   "outputs": [],
   "source": []
  },
  {
   "cell_type": "code",
   "execution_count": null,
   "id": "ea7fb006",
   "metadata": {},
   "outputs": [],
   "source": []
  },
  {
   "cell_type": "code",
   "execution_count": null,
   "id": "dd854c8a",
   "metadata": {},
   "outputs": [],
   "source": []
  },
  {
   "cell_type": "code",
   "execution_count": null,
   "id": "8d38682a",
   "metadata": {},
   "outputs": [],
   "source": []
  },
  {
   "cell_type": "code",
   "execution_count": 9,
   "id": "c1c21fc0",
   "metadata": {},
   "outputs": [],
   "source": [
    "# En observant la page de recherche, on voit que les informations de chaque film sont contenues dans la balise\n",
    "# <div class=\"lister-item-content\">\n",
    "\n",
    "res = requests.get(url)\n",
    "soup = bs(res.content, 'html.parser')\n",
    "results = soup.find_all(\"div\", class_=\"lister-item mode-advanced\")"
   ]
  },
  {
   "cell_type": "code",
   "execution_count": 10,
   "id": "a63b9123",
   "metadata": {},
   "outputs": [
    {
     "name": "stdout",
     "output_type": "stream",
     "text": [
      "Nombre de films: 50\n"
     ]
    }
   ],
   "source": [
    "# Combien de films avons-nous par page ?\n",
    "\n",
    "print(f\"Nombre de films: {len(results)}\")"
   ]
  },
  {
   "cell_type": "code",
   "execution_count": 11,
   "id": "250daa4a",
   "metadata": {},
   "outputs": [
    {
     "data": {
      "text/plain": [
       "<div class=\"lister-item mode-advanced\">\n",
       "<div class=\"lister-top-right\">\n",
       "<div class=\"ribbonize\" data-caller=\"filmosearch\" data-tconst=\"tt2406252\"></div>\n",
       "</div>\n",
       "<div class=\"lister-item-image float-left\">\n",
       "<a href=\"/title/tt2406252/\"> <img alt=\"La Vénus à la fourrure\" class=\"loadlate\" data-tconst=\"tt2406252\" height=\"98\" loadlate=\"https://m.media-amazon.com/images/M/MV5BMjM0ODgyOTM1Ml5BMl5BanBnXkFtZTgwMzI5ODM4MTE@._V1_UX67_CR0,0,67,98_AL_.jpg\" src=\"https://m.media-amazon.com/images/S/sash/4FyxwxECzL-U1J8.png\" width=\"67\"/>\n",
       "</a> </div>\n",
       "<div class=\"lister-item-content\">\n",
       "<h3 class=\"lister-item-header\">\n",
       "<span class=\"lister-item-index unbold text-primary\">1.</span>\n",
       "<a href=\"/title/tt2406252/\">La Vénus à la fourrure</a>\n",
       "<span class=\"lister-item-year text-muted unbold\">(2013)</span>\n",
       "</h3>\n",
       "<p class=\"text-muted\">\n",
       "<span class=\"certificate\">16</span>\n",
       "<span class=\"ghost\">|</span>\n",
       "<span class=\"runtime\">96 min</span>\n",
       "<span class=\"ghost\">|</span>\n",
       "<span class=\"genre\">\n",
       "Drama            </span>\n",
       "</p>\n",
       "<div class=\"ratings-bar\">\n",
       "<div class=\"inline-block ratings-imdb-rating\" data-value=\"7.2\" name=\"ir\">\n",
       "<span class=\"global-sprite rating-star imdb-rating\"></span>\n",
       "<strong>7.2</strong>\n",
       "</div>\n",
       "<div class=\"inline-block ratings-user-rating\">\n",
       "<span class=\"userRatingValue\" data-tconst=\"tt2406252\" id=\"urv_tt2406252\">\n",
       "<span class=\"global-sprite rating-star no-rating\"></span>\n",
       "<span class=\"rate\" data-no-rating=\"Rate this\" data-value=\"0\" name=\"ur\">Rate this</span>\n",
       "</span>\n",
       "<div class=\"starBarWidget\" id=\"sb_tt2406252\">\n",
       "<div class=\"rating rating-list\" data-csrf-token=\"\" data-ga-identifier=\"\" data-starbar-class=\"rating-list\" data-user=\"\" id=\"tt2406252|imdb|7.2|7.2|adv_li_tt||advsearch|title\" itemprop=\"aggregateRating\" itemscope=\"\" itemtype=\"http://schema.org/AggregateRating\" title=\"Users rated this 7.2/10 (18,992 votes) - click stars to rate\">\n",
       "<meta content=\"7.2\" itemprop=\"ratingValue\"/>\n",
       "<meta content=\"10\" itemprop=\"bestRating\"/>\n",
       "<meta content=\"18992\" itemprop=\"ratingCount\"/>\n",
       "<span class=\"rating-bg\"> </span>\n",
       "<span class=\"rating-imdb\" style=\"width: 100.8px\"> </span>\n",
       "<span class=\"rating-stars\">\n",
       "<a href=\"/register/login?why=vote\" rel=\"nofollow\" title=\"Register or login to rate this title\"><span>1</span></a>\n",
       "<a href=\"/register/login?why=vote\" rel=\"nofollow\" title=\"Register or login to rate this title\"><span>2</span></a>\n",
       "<a href=\"/register/login?why=vote\" rel=\"nofollow\" title=\"Register or login to rate this title\"><span>3</span></a>\n",
       "<a href=\"/register/login?why=vote\" rel=\"nofollow\" title=\"Register or login to rate this title\"><span>4</span></a>\n",
       "<a href=\"/register/login?why=vote\" rel=\"nofollow\" title=\"Register or login to rate this title\"><span>5</span></a>\n",
       "<a href=\"/register/login?why=vote\" rel=\"nofollow\" title=\"Register or login to rate this title\"><span>6</span></a>\n",
       "<a href=\"/register/login?why=vote\" rel=\"nofollow\" title=\"Register or login to rate this title\"><span>7</span></a>\n",
       "<a href=\"/register/login?why=vote\" rel=\"nofollow\" title=\"Register or login to rate this title\"><span>8</span></a>\n",
       "<a href=\"/register/login?why=vote\" rel=\"nofollow\" title=\"Register or login to rate this title\"><span>9</span></a>\n",
       "<a href=\"/register/login?why=vote\" rel=\"nofollow\" title=\"Register or login to rate this title\"><span>10</span></a>\n",
       "</span>\n",
       "<span class=\"rating-rating\"><span class=\"value\">7.2</span><span class=\"grey\">/</span><span class=\"grey\">10</span></span>\n",
       "<span class=\"rating-cancel\"><a href=\"/title/tt2406252/vote\" rel=\"nofollow\" title=\"Delete\"><span>X</span></a></span>\n",
       " </div>\n",
       "</div>\n",
       "</div>\n",
       "<div class=\"inline-block ratings-metascore\">\n",
       "<span class=\"metascore favorable\">69        </span>\n",
       "        Metascore\n",
       "            </div>\n",
       "</div>\n",
       "<p class=\"text-muted\">\n",
       "An actress attempts to convince a director how she's perfect for a role in his upcoming production.</p>\n",
       "<p class=\"\">\n",
       "    Director:\n",
       "<a href=\"/name/nm0000591/\">Roman Polanski</a>\n",
       "<span class=\"ghost\">|</span> \n",
       "    Stars:\n",
       "<a href=\"/name/nm0782561/\">Emmanuelle Seigner</a>, \n",
       "<a href=\"/name/nm0023832/\">Mathieu Amalric</a>\n",
       "</p>\n",
       "<p class=\"sort-num_votes-visible\">\n",
       "<span class=\"text-muted\">Votes:</span>\n",
       "<span data-value=\"18992\" name=\"nv\">18,992</span>\n",
       "<span class=\"ghost\">|</span> <span class=\"text-muted\">Gross:</span>\n",
       "<span data-value=\"342,183\" name=\"nv\">$0.34M</span>\n",
       "</p>\n",
       "</div>\n",
       "</div>"
      ]
     },
     "execution_count": 11,
     "metadata": {},
     "output_type": "execute_result"
    }
   ],
   "source": [
    "# Voir les informations disponibles dans le 1er résultat\n",
    "# On peut également voir les différentes informations disponibles par film\n",
    "# Vous pouvez jouer avec l'indexation pour voir les autres films\n",
    "\n",
    "results[0]"
   ]
  },
  {
   "cell_type": "markdown",
   "id": "6496f22f",
   "metadata": {},
   "source": [
    "#### 2.3 Construire les expressions régulières et les appliquer\n",
    "\n",
    "D'après la structure et les informations désirée, il va falloir construire des expressions régulières pour récupérer les infromations\n",
    "\n",
    "**Commençons par le titre du premier film, par exemple**\n",
    "\n",
    "* Entre quelles balises est contenu le titre du film ?\n",
    "* Quelle expression régulière écrire ?\n",
    "* Quelle est le résultat obtenu ?"
   ]
  },
  {
   "cell_type": "markdown",
   "id": "f36e82c5",
   "metadata": {},
   "source": [
    "Le titre se trouve à plusieurs endroits, quelle est la manière la plus standard ?\n",
    "\n",
    "![title](titre.png)\n",
    "\n",
    "**Le titre est entre ces deux balises, il faut désormais écrire l'expression régulière**"
   ]
  },
  {
   "cell_type": "code",
   "execution_count": 12,
   "id": "4388bb36",
   "metadata": {},
   "outputs": [
    {
     "data": {
      "text/plain": [
       "[('<a href=\"/title/tt2406252/\">La Vénus à la fourrure</a>',\n",
       "  '<a href=\"/title/',\n",
       "  '</a>'),\n",
       " ('<a href=\"/title/tt2406252/vote\" rel=\"nofollow\" title=\"Delete\"><span>X</span></a>',\n",
       "  '<a href=\"/title/',\n",
       "  '</a>')]"
      ]
     },
     "execution_count": 12,
     "metadata": {},
     "output_type": "execute_result"
    }
   ],
   "source": [
    "# On utilise la libraire \"re\" et le module findall pour appliquer notre expression régulière\n",
    "\n",
    "title_reg = re.findall(\"((<a href=\\\"\\/title\\/).*\\S.(</a>))\", str(results[0]))\n",
    "title_reg"
   ]
  },
  {
   "cell_type": "markdown",
   "id": "1afef824",
   "metadata": {},
   "source": [
    "**Le titre est là mais il est encombré de texte inutile. Il faut encore un petit travail pour le nettoyer**"
   ]
  },
  {
   "cell_type": "code",
   "execution_count": 13,
   "id": "f8f1bb3c",
   "metadata": {},
   "outputs": [
    {
     "data": {
      "text/plain": [
       "('<a href=\"/title/tt2406252/\">La Vénus à la fourrure</a>',\n",
       " '<a href=\"/title/',\n",
       " '</a>')"
      ]
     },
     "execution_count": 13,
     "metadata": {},
     "output_type": "execute_result"
    }
   ],
   "source": [
    "# Prendre la bonne chaîne de caractère dans la liste\n",
    "# Avec l'indexation, enlever le surplus\n",
    "\n",
    "title_reg[0]"
   ]
  },
  {
   "cell_type": "code",
   "execution_count": 14,
   "id": "09e87832",
   "metadata": {},
   "outputs": [
    {
     "data": {
      "text/plain": [
       "'<a href=\"/title/tt2406252/\">La Vénus à la fourrure</a>'"
      ]
     },
     "execution_count": 14,
     "metadata": {},
     "output_type": "execute_result"
    }
   ],
   "source": [
    "title_reg[0][0]"
   ]
  },
  {
   "cell_type": "code",
   "execution_count": 15,
   "id": "b6ff1b13",
   "metadata": {},
   "outputs": [
    {
     "data": {
      "text/plain": [
       "'La Vénus à la fourrure'"
      ]
     },
     "execution_count": 15,
     "metadata": {},
     "output_type": "execute_result"
    }
   ],
   "source": [
    "title_reg[0][0][28:-4]"
   ]
  },
  {
   "cell_type": "markdown",
   "id": "8820c365",
   "metadata": {},
   "source": [
    "**Dans les informations récupérées il y a aussi l'identifiant du films sur IMDB**\n",
    "\n",
    "Cette information est très importante car elle permet d'avoir un identifiant unique pour chaque film. Cela permet de lier le film à sa source (IMDB) ou à d'autres sources (reconciliation).\n",
    "\n",
    "**Où se situe-t-il ? Comment le récupérer ?**"
   ]
  },
  {
   "cell_type": "code",
   "execution_count": 16,
   "id": "c0a226bd",
   "metadata": {},
   "outputs": [
    {
     "data": {
      "text/plain": [
       "('<a href=\"/title/tt2406252/\">La Vénus à la fourrure</a>',\n",
       " '<a href=\"/title/',\n",
       " '</a>')"
      ]
     },
     "execution_count": 16,
     "metadata": {},
     "output_type": "execute_result"
    }
   ],
   "source": [
    "# A l'aide de split, on peut diviser la chaîne de caractère\n",
    "# Puis avec l'indexation, récupérer l'identifiant\n",
    "\n",
    "title_reg[0]"
   ]
  },
  {
   "cell_type": "code",
   "execution_count": 17,
   "id": "7f5b741b",
   "metadata": {},
   "outputs": [
    {
     "data": {
      "text/plain": [
       "'<a href=\"/title/tt2406252/\">La Vénus à la fourrure</a>'"
      ]
     },
     "execution_count": 17,
     "metadata": {},
     "output_type": "execute_result"
    }
   ],
   "source": [
    "title_reg[0][0]"
   ]
  },
  {
   "cell_type": "code",
   "execution_count": 18,
   "id": "00420b6d",
   "metadata": {},
   "outputs": [
    {
     "data": {
      "text/plain": [
       "['<a href=\"', 'title', 'tt2406252', '\">La Vénus à la fourrure<', 'a>']"
      ]
     },
     "execution_count": 18,
     "metadata": {},
     "output_type": "execute_result"
    }
   ],
   "source": [
    "title_reg[0][0].split(\"/\")"
   ]
  },
  {
   "cell_type": "code",
   "execution_count": 19,
   "id": "8e934f8c",
   "metadata": {},
   "outputs": [
    {
     "data": {
      "text/plain": [
       "'tt2406252'"
      ]
     },
     "execution_count": 19,
     "metadata": {},
     "output_type": "execute_result"
    }
   ],
   "source": [
    "title_reg[0][0].split(\"/\")[2]"
   ]
  },
  {
   "cell_type": "markdown",
   "id": "f1d54821",
   "metadata": {},
   "source": [
    "**Maintenant, à vous de jouer !**\n",
    "\n",
    "* Quelles informations ?\n",
    "* Comment les récupérer ?\n",
    "* Quelle expression régulière ?"
   ]
  },
  {
   "cell_type": "code",
   "execution_count": null,
   "id": "ed3d53e8",
   "metadata": {},
   "outputs": [],
   "source": []
  },
  {
   "cell_type": "code",
   "execution_count": null,
   "id": "41839a1c",
   "metadata": {},
   "outputs": [],
   "source": []
  },
  {
   "cell_type": "code",
   "execution_count": null,
   "id": "df3b70a5",
   "metadata": {},
   "outputs": [],
   "source": []
  },
  {
   "cell_type": "code",
   "execution_count": null,
   "id": "36fc8fd7",
   "metadata": {},
   "outputs": [],
   "source": []
  },
  {
   "cell_type": "code",
   "execution_count": null,
   "id": "d04a13d9",
   "metadata": {},
   "outputs": [],
   "source": []
  },
  {
   "cell_type": "code",
   "execution_count": null,
   "id": "2274837a",
   "metadata": {},
   "outputs": [],
   "source": []
  },
  {
   "cell_type": "code",
   "execution_count": null,
   "id": "904b1448",
   "metadata": {},
   "outputs": [],
   "source": []
  },
  {
   "cell_type": "code",
   "execution_count": 20,
   "id": "7e4c3bfd",
   "metadata": {},
   "outputs": [
    {
     "data": {
      "text/plain": [
       "[('<span class=\"runtime\">96 min</span>', '<span class=\"runtime\">', '</span>')]"
      ]
     },
     "execution_count": 20,
     "metadata": {},
     "output_type": "execute_result"
    }
   ],
   "source": [
    "# Par exemple, la durée\n",
    "\n",
    "duree_reg = re.findall(\"((<span class=\\\"runtime\\\">).*\\S.(</span>))\", str(results[0]))\n",
    "duree_reg"
   ]
  },
  {
   "cell_type": "code",
   "execution_count": 21,
   "id": "0717d4e5",
   "metadata": {},
   "outputs": [
    {
     "data": {
      "text/plain": [
       "'96 min'"
      ]
     },
     "execution_count": 21,
     "metadata": {},
     "output_type": "execute_result"
    }
   ],
   "source": [
    "# Durée\n",
    "\n",
    "duree_reg[0][0][22:-7]"
   ]
  },
  {
   "cell_type": "code",
   "execution_count": 22,
   "id": "8988a436",
   "metadata": {},
   "outputs": [
    {
     "data": {
      "text/plain": [
       "[('genre\">\\nDrama            </span>', 'genre', '\\n')]"
      ]
     },
     "execution_count": 22,
     "metadata": {},
     "output_type": "execute_result"
    }
   ],
   "source": [
    "# Par exemple, le genre\n",
    "\n",
    "genre_reg = re.findall(\"((genre).*\\S.(\\n).*\\S.)\", str(results[0]))\n",
    "genre_reg"
   ]
  },
  {
   "cell_type": "code",
   "execution_count": 23,
   "id": "528b2347",
   "metadata": {},
   "outputs": [
    {
     "data": {
      "text/plain": [
       "'Drama            '"
      ]
     },
     "execution_count": 23,
     "metadata": {},
     "output_type": "execute_result"
    }
   ],
   "source": [
    "# Genres\n",
    "\n",
    "genre_reg[0][0][8:-7]"
   ]
  },
  {
   "cell_type": "code",
   "execution_count": 24,
   "id": "aebda119",
   "metadata": {},
   "outputs": [
    {
     "data": {
      "text/plain": [
       "[('https://m.media-amazon.com/images/M/MV5BMjM0ODgyOTM1Ml5BMl5BanBnXkFtZTgwMzI5ODM4MTE@._V1_UX67_CR0,0,67,98_AL_.jpg',\n",
       "  'https',\n",
       "  '.jpg')]"
      ]
     },
     "execution_count": 24,
     "metadata": {},
     "output_type": "execute_result"
    }
   ],
   "source": [
    "# Par exemple, le lien de l'affiche\n",
    "\n",
    "lien_reg = re.findall(\"((https).*\\S.(.jpg))\", str(results[0]))\n",
    "lien_reg"
   ]
  },
  {
   "cell_type": "code",
   "execution_count": 25,
   "id": "50bbdd4c",
   "metadata": {},
   "outputs": [
    {
     "data": {
      "text/plain": [
       "'https://m.media-amazon.com/images/M/MV5BMjM0ODgyOTM1Ml5BMl5BanBnXkFtZTgwMzI5ODM4MTE@._V1_UX67_CR0,0,67,98_AL_.jpg'"
      ]
     },
     "execution_count": 25,
     "metadata": {},
     "output_type": "execute_result"
    }
   ],
   "source": [
    "# Liens pour l'image\n",
    "\n",
    "lien_reg[0][0]"
   ]
  },
  {
   "cell_type": "markdown",
   "id": "65443e2f",
   "metadata": {},
   "source": [
    "**Petite astuce, en faisant mes recherches j'ai vu qu'en ajoutant le suffixe ci-dessous, les images étaitent de meilleure qualité**"
   ]
  },
  {
   "cell_type": "code",
   "execution_count": 26,
   "id": "634fd501",
   "metadata": {},
   "outputs": [
    {
     "data": {
      "text/plain": [
       "'media-amazon.com/images/M/MV5BMjM0ODgyOTM1Ml5BMl5BanBnXkFtZTgwMzI5ODM4MTE@._V1_FMjpg_UX4000_.jpg'"
      ]
     },
     "execution_count": 26,
     "metadata": {},
     "output_type": "execute_result"
    }
   ],
   "source": [
    "# Liens de l'image de meilleure qualité\n",
    "# en ajoutant \"_FMjpg_UX4000_.jpg\" après V1\n",
    "\n",
    "l = lien_reg[0][0][10:].split(\"V1\")[0]\n",
    "lien = l + str(\"V1_FMjpg_UX4000_.jpg\")\n",
    "lien"
   ]
  },
  {
   "cell_type": "markdown",
   "id": "1717f77d",
   "metadata": {},
   "source": [
    "#### 2.4 Automatiser le processus sur toute les page\n",
    "\n",
    "Après avoir vu quelles informations et comment les récupérer, il est possible d'automatiser la tâche sur toutes les pages. Il nous faut reprendre le travail fait précédemment:\n",
    "\n",
    "* La liste des URLs\n",
    "* Les expressions régulières \n",
    "\n",
    "Il faut enregistrer les informations dans un dictionnaire afin de pouvoir ensuite les transformer en tableur"
   ]
  },
  {
   "cell_type": "code",
   "execution_count": 27,
   "id": "c9abd796",
   "metadata": {},
   "outputs": [
    {
     "data": {
      "text/plain": [
       "['https://www.imdb.com/search/title/?title=venus&start=51&ref_=adv_nxt',\n",
       " 'https://www.imdb.com/search/title/?title=venus&start=101&ref_=adv_nxt',\n",
       " 'https://www.imdb.com/search/title/?title=venus&start=151&ref_=adv_nxt',\n",
       " 'https://www.imdb.com/search/title/?title=venus&start=201&ref_=adv_nxt',\n",
       " 'https://www.imdb.com/search/title/?title=venus&start=251&ref_=adv_nxt',\n",
       " 'https://www.imdb.com/search/title/?title=venus&start=301&ref_=adv_nxt',\n",
       " 'https://www.imdb.com/search/title/?title=venus&start=351&ref_=adv_nxt',\n",
       " 'https://www.imdb.com/search/title/?title=venus&start=401&ref_=adv_nxt',\n",
       " 'https://www.imdb.com/search/title/?title=venus&start=451&ref_=adv_nxt',\n",
       " 'https://www.imdb.com/search/title/?title=venus&start=501&ref_=adv_nxt',\n",
       " 'https://www.imdb.com/search/title/?title=venus&start=551&ref_=adv_nxt',\n",
       " 'https://www.imdb.com/search/title/?title=venus&start=601&ref_=adv_nxt',\n",
       " 'https://www.imdb.com/search/title/?title=venus&start=651&ref_=adv_nxt',\n",
       " 'https://www.imdb.com/search/title/?title=venus&start=701&ref_=adv_nxt',\n",
       " 'https://www.imdb.com/search/title/?title=venus&start=751&ref_=adv_nxt',\n",
       " 'https://www.imdb.com/search/title/?title=venus&start=801&ref_=adv_nxt',\n",
       " 'https://www.imdb.com/search/title/?title=venus&start=851&ref_=adv_nxt',\n",
       " 'https://www.imdb.com/search/title/?title=venus']"
      ]
     },
     "execution_count": 27,
     "metadata": {},
     "output_type": "execute_result"
    }
   ],
   "source": [
    "# Vérifions nos URLs\n",
    "\n",
    "urls"
   ]
  },
  {
   "cell_type": "markdown",
   "id": "9c7e7142",
   "metadata": {},
   "source": [
    "**A l'aide d'une boucle et de l'exemple de requête précédent, récupérez tous les films**"
   ]
  },
  {
   "cell_type": "code",
   "execution_count": 28,
   "id": "92473680",
   "metadata": {},
   "outputs": [],
   "source": [
    "req = []\n",
    "for u in urls:\n",
    "    ..."
   ]
  },
  {
   "cell_type": "code",
   "execution_count": null,
   "id": "ed16702b",
   "metadata": {},
   "outputs": [],
   "source": []
  },
  {
   "cell_type": "code",
   "execution_count": null,
   "id": "d3c7db37",
   "metadata": {},
   "outputs": [],
   "source": []
  },
  {
   "cell_type": "code",
   "execution_count": null,
   "id": "54fc29d7",
   "metadata": {},
   "outputs": [],
   "source": []
  },
  {
   "cell_type": "code",
   "execution_count": null,
   "id": "b6becd95",
   "metadata": {},
   "outputs": [],
   "source": []
  },
  {
   "cell_type": "code",
   "execution_count": null,
   "id": "12868cf7",
   "metadata": {},
   "outputs": [],
   "source": []
  },
  {
   "cell_type": "code",
   "execution_count": 29,
   "id": "d0e24fa4",
   "metadata": {},
   "outputs": [
    {
     "data": {
      "application/vnd.jupyter.widget-view+json": {
       "model_id": "6c3eaffa28a7461096005e8a30dadd5f",
       "version_major": 2,
       "version_minor": 0
      },
      "text/plain": [
       "  0%|          | 0/18 [00:00<?, ?it/s]"
      ]
     },
     "metadata": {},
     "output_type": "display_data"
    }
   ],
   "source": [
    "# Réponse\n",
    "# Tous les films\n",
    "\n",
    "req = [] # liste vide pour y mettre nos résultats\n",
    "for u in tqdm(urls): # on itère dans notre liste d'URLs pour chercher les infos sur chaque page\n",
    "        res = requests.get(u) # on requête le contenu\n",
    "        soup = bs(res.content, 'html.parser') # on le charge \n",
    "        results = soup.find_all(\"div\", class_=\"lister-item mode-advanced\") # on cherche tous les films compris entre les balises\n",
    "        for t in results: # on requête dans le resultats pour avoir chaque film, film par film\n",
    "            req.append(t) # les films sont enregistrés dans notre liste"
   ]
  },
  {
   "cell_type": "code",
   "execution_count": 30,
   "id": "bc6389fa",
   "metadata": {},
   "outputs": [
    {
     "name": "stdout",
     "output_type": "stream",
     "text": [
      "Nombre de films: 890\n"
     ]
    }
   ],
   "source": [
    "print(f\"Nombre de films: {len(req)}\")"
   ]
  },
  {
   "cell_type": "markdown",
   "id": "e5877fa5",
   "metadata": {},
   "source": [
    "**Maintenant, nous avons tous les films. Et comme sur l'exemple précédent, il faut y appliquer les expressions régulières**\n",
    "\n",
    "Créer une boucle qui:\n",
    "\n",
    "* Prends la liste de films \n",
    "* Récupère les informations à l'aide des expressions régulières\n",
    "* Enregistre les informations dans un dictionnaire"
   ]
  },
  {
   "cell_type": "code",
   "execution_count": 31,
   "id": "21f6adfe",
   "metadata": {},
   "outputs": [
    {
     "data": {
      "text/plain": [
       "<div class=\"lister-item mode-advanced\">\n",
       "<div class=\"lister-top-right\">\n",
       "<div class=\"ribbonize\" data-caller=\"filmosearch\" data-tconst=\"tt4163316\"></div>\n",
       "</div>\n",
       "<div class=\"lister-item-image float-left\">\n",
       "<a href=\"/title/tt4163316/\"> <img alt=\"Montes de Venus\" class=\"loadlate\" data-tconst=\"tt4163316\" height=\"98\" loadlate=\"https://m.media-amazon.com/images/M/MV5BOTIxMzc4ODktNTZkZS00M2FkLWEzNTctOTcxNTE1ZWYyNzJiXkEyXkFqcGdeQXVyMzEwMDM2NDE@._V1_UY98_CR1,0,67,98_AL_.jpg\" src=\"https://m.media-amazon.com/images/S/sash/4FyxwxECzL-U1J8.png\" width=\"67\"/>\n",
       "</a> </div>\n",
       "<div class=\"lister-item-content\">\n",
       "<h3 class=\"lister-item-header\">\n",
       "<span class=\"lister-item-index unbold text-primary\">51.</span>\n",
       "<a href=\"/title/tt4163316/\">Montes de Venus</a>\n",
       "<span class=\"lister-item-year text-muted unbold\">(2006)</span>\n",
       "</h3>\n",
       "<p class=\"text-muted\">\n",
       "<span class=\"runtime\">80 min</span>\n",
       "<span class=\"ghost\">|</span>\n",
       "<span class=\"genre\">\n",
       "Thriller            </span>\n",
       "</p>\n",
       "<div class=\"ratings-bar\">\n",
       "<div class=\"inline-block ratings-user-rating\">\n",
       "<span class=\"userRatingValue\" data-tconst=\"tt4163316\" id=\"urv_tt4163316\">\n",
       "<span class=\"global-sprite rating-star no-rating\"></span>\n",
       "<span class=\"rate\" data-no-rating=\"Rate this\" data-value=\"0\" name=\"ur\">Rate this</span>\n",
       "</span>\n",
       "<div class=\"starBarWidget\" id=\"sb_tt4163316\">\n",
       "<div class=\"rating rating-list\" data-csrf-token=\"\" data-ga-identifier=\"\" data-starbar-class=\"rating-list\" data-user=\"\" id=\"tt4163316|imdb|0|0|adv_li_tt||advsearch|title\" itemprop=\"aggregateRating\" itemscope=\"\" itemtype=\"http://schema.org/AggregateRating\" title=\"Awaiting enough ratings - click stars to rate\">\n",
       "<meta content=\"0\" itemprop=\"ratingValue\"/>\n",
       "<meta content=\"10\" itemprop=\"bestRating\"/>\n",
       "<meta content=\"0\" itemprop=\"ratingCount\"/>\n",
       "<span class=\"rating-bg\"> </span>\n",
       "<span class=\"rating-imdb\" style=\"width: 0px\"> </span>\n",
       "<span class=\"rating-stars\">\n",
       "<a href=\"/register/login?why=vote\" rel=\"nofollow\" title=\"Register or login to rate this title\"><span>1</span></a>\n",
       "<a href=\"/register/login?why=vote\" rel=\"nofollow\" title=\"Register or login to rate this title\"><span>2</span></a>\n",
       "<a href=\"/register/login?why=vote\" rel=\"nofollow\" title=\"Register or login to rate this title\"><span>3</span></a>\n",
       "<a href=\"/register/login?why=vote\" rel=\"nofollow\" title=\"Register or login to rate this title\"><span>4</span></a>\n",
       "<a href=\"/register/login?why=vote\" rel=\"nofollow\" title=\"Register or login to rate this title\"><span>5</span></a>\n",
       "<a href=\"/register/login?why=vote\" rel=\"nofollow\" title=\"Register or login to rate this title\"><span>6</span></a>\n",
       "<a href=\"/register/login?why=vote\" rel=\"nofollow\" title=\"Register or login to rate this title\"><span>7</span></a>\n",
       "<a href=\"/register/login?why=vote\" rel=\"nofollow\" title=\"Register or login to rate this title\"><span>8</span></a>\n",
       "<a href=\"/register/login?why=vote\" rel=\"nofollow\" title=\"Register or login to rate this title\"><span>9</span></a>\n",
       "<a href=\"/register/login?why=vote\" rel=\"nofollow\" title=\"Register or login to rate this title\"><span>10</span></a>\n",
       "</span>\n",
       "<span class=\"rating-rating\"><span class=\"value\">-</span><span class=\"grey\">/</span><span class=\"grey\">10</span></span>\n",
       "<span class=\"rating-cancel\"><a href=\"/title/tt4163316/vote\" rel=\"nofollow\" title=\"Delete\"><span>X</span></a></span>\n",
       " </div>\n",
       "</div>\n",
       "</div>\n",
       "</div>\n",
       "<p class=\"text-muted\">\n",
       "<a href=\"/updates?update=tt4163316%3Aoutlines.add.1\">Add a Plot</a>\n",
       "</p>\n",
       "<p class=\"\">\n",
       "    Directors:\n",
       "<a href=\"/name/nm0001238/\">Jesús Franco</a>, \n",
       "<a href=\"/name/nm0605103/\">Fata Morgana</a>\n",
       "<span class=\"ghost\">|</span> \n",
       "    Stars:\n",
       "<a href=\"/name/nm0605103/\">Fata Morgana</a>, \n",
       "<a href=\"/name/nm1262213/\">Carmen Montes</a>\n",
       "</p>\n",
       "</div>\n",
       "</div>"
      ]
     },
     "execution_count": 31,
     "metadata": {},
     "output_type": "execute_result"
    }
   ],
   "source": [
    "req[0]"
   ]
  },
  {
   "cell_type": "code",
   "execution_count": null,
   "id": "509a848e",
   "metadata": {},
   "outputs": [],
   "source": []
  },
  {
   "cell_type": "code",
   "execution_count": null,
   "id": "8c674caa",
   "metadata": {},
   "outputs": [],
   "source": []
  },
  {
   "cell_type": "code",
   "execution_count": null,
   "id": "e04fef60",
   "metadata": {},
   "outputs": [],
   "source": []
  },
  {
   "cell_type": "code",
   "execution_count": null,
   "id": "ec769834",
   "metadata": {},
   "outputs": [],
   "source": []
  },
  {
   "cell_type": "code",
   "execution_count": 32,
   "id": "ee12fa53",
   "metadata": {},
   "outputs": [
    {
     "data": {
      "application/vnd.jupyter.widget-view+json": {
       "model_id": "b950f8efca9e4dd7837b214ad1557df1",
       "version_major": 2,
       "version_minor": 0
      },
      "text/plain": [
       "  0%|          | 0/890 [00:00<?, ?it/s]"
      ]
     },
     "metadata": {},
     "output_type": "display_data"
    }
   ],
   "source": [
    "# Boucle pour récupérer les informations\n",
    "\n",
    "res = [] #enregistrer les informations\n",
    "ex = [] #voir les exceptions\n",
    "for r in tqdm(req): # itérer dans la liste de films faite précédement\n",
    "    try:  # try-excpet permet ici d'itérer indépendemment des données manquantes\n",
    "        \n",
    "        # selon les expressions régulières faites précédemment\n",
    "        # le titre\n",
    "        title_reg = re.findall(\"((<a href=\\\"\\/title\\/).*\\S.(</a>))\", str(r))\n",
    "        title = title_reg[0][0][28:-4]\n",
    "        \n",
    "        # l'identifiant\n",
    "        ide = title_reg[0][0].split(\"/\")[2]\n",
    "        \n",
    "        # la durée\n",
    "        duree_reg = re.findall(\"((<span class=\\\"runtime\\\">).*\\S.(</span>))\", str(r))\n",
    "        duree = duree_reg[0][0][22:-7]\n",
    "        \n",
    "        # le genre\n",
    "        genre_reg = re.findall(\"((genre).*\\S.(\\n).*\\S.)\", str(r))\n",
    "        genre = genre_reg[0][0][8:-7]\n",
    "        \n",
    "        # lien pour les images\n",
    "        lien_reg = re.findall(\"((https).*\\S.(.jpg))\", str(r))\n",
    "        l = lien_reg[0][0].split(\"V1\")[0]\n",
    "        lien = l + str(\"V1_FMjpg_UX4000_.jpg\")\n",
    "        \n",
    "        # ensuite il faut enregister les données, ici dans un dictionnaire\n",
    "        # pour chaque information (valeur), il faut y joindre une clé \n",
    "        \n",
    "        data = {\n",
    "                \"titre\": title,\n",
    "                \"id\": ide,\n",
    "                \"genre\": genre,\n",
    "                 \"temps\": duree,\n",
    "                 \"lien\": lien\n",
    "            }\n",
    "        \n",
    "        # il y a un dictionnaire par film\n",
    "        # il faut ensuite les enregistrer dans une liste\n",
    "        \n",
    "        res.append(data) if data not in res else res #éviter de mettre deux fois le même film\n",
    "    except Exception as e:\n",
    "        ex.append(r) # enregistrer les exceptions (voir les erreurs ou faire une autre requête par la suite)"
   ]
  },
  {
   "cell_type": "code",
   "execution_count": 33,
   "id": "5d4345d6",
   "metadata": {},
   "outputs": [
    {
     "name": "stdout",
     "output_type": "stream",
     "text": [
      "Films récupérés:  255 \n",
      "Films disponibles: 890\n"
     ]
    }
   ],
   "source": [
    "print(\"Films récupérés: \", len(res), \"\\nFilms disponibles:\", len(req))"
   ]
  },
  {
   "cell_type": "markdown",
   "id": "1359df26",
   "metadata": {},
   "source": [
    "**Pourquoi est-ce que sur les 890 films, seulement 254 ont été récupérés ?**\n",
    "\n",
    "Car il y a des films redondants ou des infortmations manquantes et dans notre cas nous voulions les films avec toutes ces informations. Cette méthode est assez simple, vous pouvez l'augmenter en jouant avec les autres informations disponibles et celles qui sont manquantes. "
   ]
  },
  {
   "cell_type": "markdown",
   "id": "375c8f4c",
   "metadata": {},
   "source": [
    "## Étape 3 - Enregistrer les données\n",
    "\n",
    "Maintenant que nos données ont été récupéres, il faut les structurer et les enregistrer. Pour cela ont utilise la librairie \"pandas\" pour que nos données prennent la forme d'un tableur."
   ]
  },
  {
   "cell_type": "code",
   "execution_count": 34,
   "id": "ef955538",
   "metadata": {},
   "outputs": [
    {
     "data": {
      "text/html": [
       "<div>\n",
       "<style scoped>\n",
       "    .dataframe tbody tr th:only-of-type {\n",
       "        vertical-align: middle;\n",
       "    }\n",
       "\n",
       "    .dataframe tbody tr th {\n",
       "        vertical-align: top;\n",
       "    }\n",
       "\n",
       "    .dataframe thead th {\n",
       "        text-align: right;\n",
       "    }\n",
       "</style>\n",
       "<table border=\"1\" class=\"dataframe\">\n",
       "  <thead>\n",
       "    <tr style=\"text-align: right;\">\n",
       "      <th></th>\n",
       "      <th>titre</th>\n",
       "      <th>id</th>\n",
       "      <th>genre</th>\n",
       "      <th>temps</th>\n",
       "      <th>lien</th>\n",
       "    </tr>\n",
       "  </thead>\n",
       "  <tbody>\n",
       "    <tr>\n",
       "      <th>0</th>\n",
       "      <td>Montes de Venus</td>\n",
       "      <td>tt4163316</td>\n",
       "      <td>Thriller</td>\n",
       "      <td>80 min</td>\n",
       "      <td>https://m.media-amazon.com/images/M/MV5BOTIxMz...</td>\n",
       "    </tr>\n",
       "    <tr>\n",
       "      <th>1</th>\n",
       "      <td>&gt;Mars Met Venus (Part Cowo)</td>\n",
       "      <td>tt11997088</td>\n",
       "      <td>Comedy, Romance</td>\n",
       "      <td>94 min</td>\n",
       "      <td>https://m.media-amazon.com/images/M/MV5BZTU4ND...</td>\n",
       "    </tr>\n",
       "    <tr>\n",
       "      <th>2</th>\n",
       "      <td>Bananarama: Venus</td>\n",
       "      <td>tt6696890</td>\n",
       "      <td>Music</td>\n",
       "      <td>4 min</td>\n",
       "      <td>https://m.media-amazon.com/images/M/MV5BMGQzY2...</td>\n",
       "    </tr>\n",
       "    <tr>\n",
       "      <th>3</th>\n",
       "      <td>I Afroditi stin avli</td>\n",
       "      <td>tt2091317</td>\n",
       "      <td>Drama</td>\n",
       "      <td>63 min</td>\n",
       "      <td>https://m.media-amazon.com/images/M/MV5BNzljNG...</td>\n",
       "    </tr>\n",
       "    <tr>\n",
       "      <th>4</th>\n",
       "      <td>Venus and Mars</td>\n",
       "      <td>tt3962816</td>\n",
       "      <td>Drama</td>\n",
       "      <td>90 min</td>\n",
       "      <td>https://m.media-amazon.com/images/M/MV5BODMzNz...</td>\n",
       "    </tr>\n",
       "    <tr>\n",
       "      <th>...</th>\n",
       "      <td>...</td>\n",
       "      <td>...</td>\n",
       "      <td>...</td>\n",
       "      <td>...</td>\n",
       "      <td>...</td>\n",
       "    </tr>\n",
       "    <tr>\n",
       "      <th>250</th>\n",
       "      <td>The Naked Venus</td>\n",
       "      <td>tt0144415</td>\n",
       "      <td>Drama</td>\n",
       "      <td>75 min</td>\n",
       "      <td>https://m.media-amazon.com/images/M/MV5BNjkyOG...</td>\n",
       "    </tr>\n",
       "    <tr>\n",
       "      <th>251</th>\n",
       "      <td>Venere imperiale</td>\n",
       "      <td>tt0057638</td>\n",
       "      <td>Drama, History, Romance</td>\n",
       "      <td>140 min</td>\n",
       "      <td>https://m.media-amazon.com/images/M/MV5BMjA5MD...</td>\n",
       "    </tr>\n",
       "    <tr>\n",
       "      <th>252</th>\n",
       "      <td>American Venus</td>\n",
       "      <td>tt0783478</td>\n",
       "      <td>Drama</td>\n",
       "      <td>81 min</td>\n",
       "      <td>https://m.media-amazon.com/images/M/MV5BMWQ0ZW...</td>\n",
       "    </tr>\n",
       "    <tr>\n",
       "      <th>253</th>\n",
       "      <td>Venus Rising</td>\n",
       "      <td>tt0114831</td>\n",
       "      <td>Action, Sci-Fi</td>\n",
       "      <td>91 min</td>\n",
       "      <td>https://m.media-amazon.com/images/M/MV5BMTYyMj...</td>\n",
       "    </tr>\n",
       "    <tr>\n",
       "      <th>254</th>\n",
       "      <td>Appointment with Venus</td>\n",
       "      <td>tt0043293</td>\n",
       "      <td>Comedy, Drama, War</td>\n",
       "      <td>87 min</td>\n",
       "      <td>https://m.media-amazon.com/images/M/MV5BNjViYz...</td>\n",
       "    </tr>\n",
       "  </tbody>\n",
       "</table>\n",
       "<p>255 rows × 5 columns</p>\n",
       "</div>"
      ],
      "text/plain": [
       "                           titre          id  \\\n",
       "0                Montes de Venus   tt4163316   \n",
       "1    >Mars Met Venus (Part Cowo)  tt11997088   \n",
       "2              Bananarama: Venus   tt6696890   \n",
       "3           I Afroditi stin avli   tt2091317   \n",
       "4                 Venus and Mars   tt3962816   \n",
       "..                           ...         ...   \n",
       "250              The Naked Venus   tt0144415   \n",
       "251             Venere imperiale   tt0057638   \n",
       "252               American Venus   tt0783478   \n",
       "253                 Venus Rising   tt0114831   \n",
       "254       Appointment with Venus   tt0043293   \n",
       "\n",
       "                                   genre    temps  \\\n",
       "0                   Thriller               80 min   \n",
       "1            Comedy, Romance               94 min   \n",
       "2                      Music                4 min   \n",
       "3                      Drama               63 min   \n",
       "4                      Drama               90 min   \n",
       "..                                   ...      ...   \n",
       "250                    Drama               75 min   \n",
       "251  Drama, History, Romance              140 min   \n",
       "252                    Drama               81 min   \n",
       "253           Action, Sci-Fi               91 min   \n",
       "254       Comedy, Drama, War               87 min   \n",
       "\n",
       "                                                  lien  \n",
       "0    https://m.media-amazon.com/images/M/MV5BOTIxMz...  \n",
       "1    https://m.media-amazon.com/images/M/MV5BZTU4ND...  \n",
       "2    https://m.media-amazon.com/images/M/MV5BMGQzY2...  \n",
       "3    https://m.media-amazon.com/images/M/MV5BNzljNG...  \n",
       "4    https://m.media-amazon.com/images/M/MV5BODMzNz...  \n",
       "..                                                 ...  \n",
       "250  https://m.media-amazon.com/images/M/MV5BNjkyOG...  \n",
       "251  https://m.media-amazon.com/images/M/MV5BMjA5MD...  \n",
       "252  https://m.media-amazon.com/images/M/MV5BMWQ0ZW...  \n",
       "253  https://m.media-amazon.com/images/M/MV5BMTYyMj...  \n",
       "254  https://m.media-amazon.com/images/M/MV5BNjViYz...  \n",
       "\n",
       "[255 rows x 5 columns]"
      ]
     },
     "execution_count": 34,
     "metadata": {},
     "output_type": "execute_result"
    }
   ],
   "source": [
    "# Voir les informations sous forme de Dataframe\n",
    "# Toutes les entrées avec des images\n",
    "\n",
    "df = pd.DataFrame(res) # on peut également mettre l'id en indexe\n",
    "df # voir son tableur"
   ]
  },
  {
   "cell_type": "code",
   "execution_count": 35,
   "id": "7bcc3678",
   "metadata": {
    "scrolled": true
   },
   "outputs": [
    {
     "data": {
      "text/html": [
       "<div>\n",
       "<style scoped>\n",
       "    .dataframe tbody tr th:only-of-type {\n",
       "        vertical-align: middle;\n",
       "    }\n",
       "\n",
       "    .dataframe tbody tr th {\n",
       "        vertical-align: top;\n",
       "    }\n",
       "\n",
       "    .dataframe thead th {\n",
       "        text-align: right;\n",
       "    }\n",
       "</style>\n",
       "<table border=\"1\" class=\"dataframe\">\n",
       "  <thead>\n",
       "    <tr style=\"text-align: right;\">\n",
       "      <th></th>\n",
       "      <th>titre</th>\n",
       "      <th>genre</th>\n",
       "      <th>temps</th>\n",
       "      <th>lien</th>\n",
       "    </tr>\n",
       "    <tr>\n",
       "      <th>id</th>\n",
       "      <th></th>\n",
       "      <th></th>\n",
       "      <th></th>\n",
       "      <th></th>\n",
       "    </tr>\n",
       "  </thead>\n",
       "  <tbody>\n",
       "    <tr>\n",
       "      <th>tt4163316</th>\n",
       "      <td>Montes de Venus</td>\n",
       "      <td>Thriller</td>\n",
       "      <td>80 min</td>\n",
       "      <td>https://m.media-amazon.com/images/M/MV5BOTIxMz...</td>\n",
       "    </tr>\n",
       "    <tr>\n",
       "      <th>tt11997088</th>\n",
       "      <td>&gt;Mars Met Venus (Part Cowo)</td>\n",
       "      <td>Comedy, Romance</td>\n",
       "      <td>94 min</td>\n",
       "      <td>https://m.media-amazon.com/images/M/MV5BZTU4ND...</td>\n",
       "    </tr>\n",
       "    <tr>\n",
       "      <th>tt6696890</th>\n",
       "      <td>Bananarama: Venus</td>\n",
       "      <td>Music</td>\n",
       "      <td>4 min</td>\n",
       "      <td>https://m.media-amazon.com/images/M/MV5BMGQzY2...</td>\n",
       "    </tr>\n",
       "    <tr>\n",
       "      <th>tt2091317</th>\n",
       "      <td>I Afroditi stin avli</td>\n",
       "      <td>Drama</td>\n",
       "      <td>63 min</td>\n",
       "      <td>https://m.media-amazon.com/images/M/MV5BNzljNG...</td>\n",
       "    </tr>\n",
       "    <tr>\n",
       "      <th>tt3962816</th>\n",
       "      <td>Venus and Mars</td>\n",
       "      <td>Drama</td>\n",
       "      <td>90 min</td>\n",
       "      <td>https://m.media-amazon.com/images/M/MV5BODMzNz...</td>\n",
       "    </tr>\n",
       "    <tr>\n",
       "      <th>...</th>\n",
       "      <td>...</td>\n",
       "      <td>...</td>\n",
       "      <td>...</td>\n",
       "      <td>...</td>\n",
       "    </tr>\n",
       "    <tr>\n",
       "      <th>tt0144415</th>\n",
       "      <td>The Naked Venus</td>\n",
       "      <td>Drama</td>\n",
       "      <td>75 min</td>\n",
       "      <td>https://m.media-amazon.com/images/M/MV5BNjkyOG...</td>\n",
       "    </tr>\n",
       "    <tr>\n",
       "      <th>tt0057638</th>\n",
       "      <td>Venere imperiale</td>\n",
       "      <td>Drama, History, Romance</td>\n",
       "      <td>140 min</td>\n",
       "      <td>https://m.media-amazon.com/images/M/MV5BMjA5MD...</td>\n",
       "    </tr>\n",
       "    <tr>\n",
       "      <th>tt0783478</th>\n",
       "      <td>American Venus</td>\n",
       "      <td>Drama</td>\n",
       "      <td>81 min</td>\n",
       "      <td>https://m.media-amazon.com/images/M/MV5BMWQ0ZW...</td>\n",
       "    </tr>\n",
       "    <tr>\n",
       "      <th>tt0114831</th>\n",
       "      <td>Venus Rising</td>\n",
       "      <td>Action, Sci-Fi</td>\n",
       "      <td>91 min</td>\n",
       "      <td>https://m.media-amazon.com/images/M/MV5BMTYyMj...</td>\n",
       "    </tr>\n",
       "    <tr>\n",
       "      <th>tt0043293</th>\n",
       "      <td>Appointment with Venus</td>\n",
       "      <td>Comedy, Drama, War</td>\n",
       "      <td>87 min</td>\n",
       "      <td>https://m.media-amazon.com/images/M/MV5BNjViYz...</td>\n",
       "    </tr>\n",
       "  </tbody>\n",
       "</table>\n",
       "<p>255 rows × 4 columns</p>\n",
       "</div>"
      ],
      "text/plain": [
       "                                  titre                                genre  \\\n",
       "id                                                                             \n",
       "tt4163316               Montes de Venus                 Thriller               \n",
       "tt11997088  >Mars Met Venus (Part Cowo)          Comedy, Romance               \n",
       "tt6696890             Bananarama: Venus                    Music               \n",
       "tt2091317          I Afroditi stin avli                    Drama               \n",
       "tt3962816                Venus and Mars                    Drama               \n",
       "...                                 ...                                  ...   \n",
       "tt0144415               The Naked Venus                    Drama               \n",
       "tt0057638              Venere imperiale  Drama, History, Romance               \n",
       "tt0783478                American Venus                    Drama               \n",
       "tt0114831                  Venus Rising           Action, Sci-Fi               \n",
       "tt0043293        Appointment with Venus       Comedy, Drama, War               \n",
       "\n",
       "              temps                                               lien  \n",
       "id                                                                      \n",
       "tt4163316    80 min  https://m.media-amazon.com/images/M/MV5BOTIxMz...  \n",
       "tt11997088   94 min  https://m.media-amazon.com/images/M/MV5BZTU4ND...  \n",
       "tt6696890     4 min  https://m.media-amazon.com/images/M/MV5BMGQzY2...  \n",
       "tt2091317    63 min  https://m.media-amazon.com/images/M/MV5BNzljNG...  \n",
       "tt3962816    90 min  https://m.media-amazon.com/images/M/MV5BODMzNz...  \n",
       "...             ...                                                ...  \n",
       "tt0144415    75 min  https://m.media-amazon.com/images/M/MV5BNjkyOG...  \n",
       "tt0057638   140 min  https://m.media-amazon.com/images/M/MV5BMjA5MD...  \n",
       "tt0783478    81 min  https://m.media-amazon.com/images/M/MV5BMWQ0ZW...  \n",
       "tt0114831    91 min  https://m.media-amazon.com/images/M/MV5BMTYyMj...  \n",
       "tt0043293    87 min  https://m.media-amazon.com/images/M/MV5BNjViYz...  \n",
       "\n",
       "[255 rows x 4 columns]"
      ]
     },
     "execution_count": 35,
     "metadata": {},
     "output_type": "execute_result"
    }
   ],
   "source": [
    "# Changer l'index\n",
    "\n",
    "df = df.set_index('id')\n",
    "df"
   ]
  },
  {
   "cell_type": "code",
   "execution_count": 36,
   "id": "fb9a7600",
   "metadata": {},
   "outputs": [],
   "source": [
    "# Enregistrer le tableur au format .csv\n",
    "\n",
    "df.to_csv('venus_IMDB.csv')"
   ]
  },
  {
   "cell_type": "code",
   "execution_count": null,
   "id": "f04be211",
   "metadata": {},
   "outputs": [],
   "source": []
  }
 ],
 "metadata": {
  "kernelspec": {
   "display_name": "image",
   "language": "python",
   "name": "image"
  },
  "language_info": {
   "codemirror_mode": {
    "name": "ipython",
    "version": 3
   },
   "file_extension": ".py",
   "mimetype": "text/x-python",
   "name": "python",
   "nbconvert_exporter": "python",
   "pygments_lexer": "ipython3",
   "version": "3.8.12"
  }
 },
 "nbformat": 4,
 "nbformat_minor": 5
}
